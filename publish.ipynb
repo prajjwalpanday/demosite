{
  "cells": [
    {
      "cell_type": "raw",
      "metadata": {},
      "source": [
        "---\n",
        "title: \"Publish\"\n",
        "---"
      ],
      "id": "50122878"
    },
    {
      "cell_type": "markdown",
      "metadata": {},
      "source": [
        "### Publishing Python from Rstudio using Quarto\n",
        "Adapted from [Source](https://support.posit.co/hc/en-us/articles/360023654474-Installing-and-Configuring-Python-with-RStudio)\n",
        "\n",
        "#### Step 1. Install Python and Virtualenv\n",
        "Ensure that your installation of Python has the virtualenv package installed by running: \n",
        "```\n",
        "pip install virtualenv\n",
        "```\n",
        "\n",
        "#### Step 2. Create a Python environment in your project\n",
        "It is recommended that you use one virtual environment per project, similar to how packrat is used to manage R packages within a project.\n",
        "Navigate into your RStudio project directory by using the following command:\n",
        "```\n",
        "cd <project-dir>\n",
        "```\n",
        "Create a new virtual environment in a folder called my_env within your project directory using the following command:\n",
        "```\n",
        "virtualenv quarto_env\n",
        "\n",
        "```\n",
        "\n",
        "#### Step 3. Activate your Python environment\n",
        "You can activate the virtualenv in your project using the following command in a terminal:\n",
        "```\n",
        "source my_env/bin/activate\n",
        "```\n",
        "You can verify that you have activated the correct version of Python using the following command in a terminal:\n",
        "```\n",
        "which python\n",
        "```\n",
        "#### Step 4. Install Python packages in your environment\n",
        "You can install Python packages such as numpy, pandas, matplotlib, and other packages in your Python virtualenv by using pip install using the following command in a terminal:\n",
        "```\n",
        "pip install numpy pandas matplotlib\n",
        "```\n",
        "```\n",
        "pip install jupyter\n",
        "```\n",
        "#### Step 5. Install and configure reticulate to use your Python version\n",
        "Install and configure reticulate to use your Python version\n",
        "```\n",
        "install.packages(\"reticulate\")\n",
        "```\n",
        "To configure reticulate to point to the Python executable in your virtualenv, create a file in your project directory called .Renviron with the following contents:\n",
        "```\n",
        "RETICULATE_PYTHON=quarto_env/bin/python\n",
        "```\n",
        "You'll need to restart your R session for the setting to take effect. You can verify that reticulate is configured for the correct version of Python using the following command in your R console:\n",
        "```\n",
        "reticulate::py_config()\n",
        "```\n",
        "\n",
        "#### Step 6. Publish a project to RStudio Connect\n",
        "Create a markdown file with a title and source. You can then render your quarto markdown file to publish file.\n"
      ],
      "id": "ba2ad42e"
    },
    {
      "cell_type": "code",
      "metadata": {},
      "source": [
        "title: \"Lecture 2\"\n",
        "jupyter: python3"
      ],
      "id": "fbcdb892",
      "execution_count": null,
      "outputs": []
    }
  ],
  "metadata": {
    "kernelspec": {
      "name": "python3",
      "language": "python",
      "display_name": "Python 3 (ipykernel)"
    }
  },
  "nbformat": 4,
  "nbformat_minor": 5
}