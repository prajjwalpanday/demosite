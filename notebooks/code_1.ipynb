{
 "cells": [
  {
   "cell_type": "markdown",
   "id": "4f7210af",
   "metadata": {},
   "source": [
    "# Python - Week 1\n",
    "ITM 237  \n",
    "Prajjwal Panday"
   ]
  },
  {
   "cell_type": "markdown",
   "id": "c44cc527-31c0-4f9a-8fda-43b1afd8be15",
   "metadata": {},
   "source": [
    "#### What is Python?\n",
    "A general-purpose programming language by Guido van Rossum <br>\n",
    "Intuitive and minimal coding <br>\n",
    "Interpreted not compiled <br>\n",
    "Dynamically typed, no type declarations, data type is tracked at runtime <br>\n",
    "Automatic memory management <br>\n",
    "Spacing defines blocks of code such as control structures and blocks <br>\n",
    "\n",
    "#### Why Python?\n",
    "* Advantages\n",
    "* Ease of programming \n",
    "* Minimal time to develop and maintain codes \n",
    "* Modular and object-oriented \n",
    "* Large standard and user-contributed libraries\n",
    "* Large user community\n"
   ]
  },
  {
   "cell_type": "markdown",
   "id": "ef2969b6-e9c6-40f8-90b9-8fe79612d664",
   "metadata": {
    "tags": []
   },
   "source": [
    "### Running Code in the Interactive Shell or Line\n",
    "Python is an interpreted language and you can run simple Python expressions and statements in the interactive programming environment called the shell. In Jupyter Notebook, we will run these in a 'cell'.\n",
    "\n",
    "\n",
    "### Print Function\n",
    "\n",
    "We can also force the output of a value by using the **print** function. The simples for would look like this.  \n",
    "    \n",
    "    print(<expression>)\n",
    "You can also write a **print** function that includes two or more expressions separated by commas. \n",
    "    \n",
    "    print(<expression>, ..., <expression>)\n",
    "    \n"
   ]
  },
  {
   "cell_type": "code",
   "execution_count": null,
   "id": "36922706-bb0c-4b48-be1c-a733bf48c2ce",
   "metadata": {},
   "outputs": [],
   "source": [
    "#statements are interpreted one by one\n",
    "print (\"Hello World\")\n",
    "print (\"something else\")\n",
    "print (\"2+2\")"
   ]
  },
  {
   "cell_type": "code",
   "execution_count": null,
   "id": "9e97e30b-c8e7-4920-bb51-7ce889e2b576",
   "metadata": {},
   "outputs": [],
   "source": [
    "## There is a help system\n"
   ]
  },
  {
   "cell_type": "code",
   "execution_count": null,
   "id": "a1b057bb-18ff-4d97-adc2-e20af4559b3d",
   "metadata": {},
   "outputs": [],
   "source": [
    "## Type an expression in this code block and run it\n",
    "bin(150)"
   ]
  },
  {
   "cell_type": "code",
   "execution_count": null,
   "id": "cf868e13-d6c6-4978-9f1d-b84c39c165c3",
   "metadata": {},
   "outputs": [],
   "source": [
    "print (\"Hello World\")"
   ]
  },
  {
   "cell_type": "code",
   "execution_count": null,
   "id": "c816b2bd",
   "metadata": {},
   "outputs": [],
   "source": [
    "name = \"Prajjwal Panday\"\n",
    "\"Hello there, \" + name"
   ]
  },
  {
   "cell_type": "code",
   "execution_count": null,
   "id": "96c6181e-b503-48b8-80c9-534e29c9fb7d",
   "metadata": {},
   "outputs": [],
   "source": [
    "round(18.96)"
   ]
  },
  {
   "cell_type": "code",
   "execution_count": null,
   "id": "91f5a47d-ec91-4ddf-8484-21cde5df1add",
   "metadata": {},
   "outputs": [],
   "source": [
    "#Here are some escape sequences\n",
    "a = \"Hello\\aFUGU\\aSHRIMP\"\n",
    "b = 'Hello\\tFUGU\\nSHRIMP' #single quotes work as well \n",
    "print (a,b)\n",
    "\n",
    "#why do you think the output is like this?\n",
    "#try taking the escape sequences to find out\n"
   ]
  },
  {
   "cell_type": "markdown",
   "id": "13ce75da-ba16-4ae0-9cc2-dd02d613d62f",
   "metadata": {},
   "source": [
    "### Commenting in Python\n",
    "You can add comment to your python scripts with the # symbol. These comments are not run as Python code, so they will not influence your result.\n",
    "\n"
   ]
  },
  {
   "cell_type": "code",
   "execution_count": null,
   "id": "7bdc1866-299d-4e2f-81e5-11807d1d6e7f",
   "metadata": {},
   "outputs": [],
   "source": []
  },
  {
   "cell_type": "markdown",
   "id": "b33738c3-d616-4d93-b7ed-b7513d5e697c",
   "metadata": {},
   "source": [
    "### Basic mathematical operations\n",
    "Python supports all of the mathematical operations you would expect. For additional resources, please see https://en.wikibooks.org/wiki/Python_Programming/Basic_Math"
   ]
  },
  {
   "cell_type": "code",
   "execution_count": null,
   "id": "4308e071-5af6-4646-8a12-02f4e4507147",
   "metadata": {},
   "outputs": [],
   "source": []
  },
  {
   "cell_type": "code",
   "execution_count": null,
   "id": "615a9008-a293-4c70-b5a7-68cecb5e30b8",
   "metadata": {},
   "outputs": [],
   "source": [
    "mass_kg = int(input(\"What is your mass in kilograms?\" ))\n",
    "mass_stone = mass_kg * 2.2 / 14\n",
    "print(\"You weigh\", mass_stone, \"stone.\")"
   ]
  },
  {
   "cell_type": "code",
   "execution_count": null,
   "id": "21c68636-0da9-4c30-af1f-241a1b2bf86e",
   "metadata": {},
   "outputs": [],
   "source": [
    "print (round(3.14159265, 2))"
   ]
  },
  {
   "cell_type": "code",
   "execution_count": null,
   "id": "4ecdccc6-8699-49e7-9f03-b8e486d99e6e",
   "metadata": {},
   "outputs": [],
   "source": [
    "# Examples of Arithmetic Operator\n",
    "a = 9\n",
    "b = 4\n",
    "  \n",
    "# Addition of numbers\n",
    "add = a + b\n",
    "  \n",
    "# Subtraction of numbers\n",
    "sub = a - b\n",
    "  \n",
    "# Multiplication of number\n",
    "mul = a * b\n",
    "  \n",
    "# Division(float) of number\n",
    "div1 = a / b\n",
    "  \n",
    "# Division(floor) of number\n",
    "div2 = a // b\n",
    "  \n",
    "# Modulo of both number - outputs remainder\n",
    "mod = a % b\n",
    "  \n",
    "# Power\n",
    "p = a ** b\n",
    "  \n",
    "# print results\n",
    "print('a + b = ', add)\n",
    "print('a - b = ', sub)\n",
    "print('a * b = ', mul)\n",
    "print('a / b = ',div1)\n",
    "print('a // b = ', div2)\n",
    "print('a % b = ', mod)\n",
    "print('a ** b = ', p)"
   ]
  },
  {
   "cell_type": "markdown",
   "id": "53170b57",
   "metadata": {},
   "source": [
    "### Input Function\n",
    "The **input** function displays a prompt for the input. For example, the prompt can be \n",
    "\n",
    "    name = input(\"Enter your name.  :\")\n",
    "    \n",
    "The text in parentheses (\"Enter your name.  :\") is an **argument** for the **input** function that tells it what to do for the promt. The string returned by the function in our example is saved by assigning it to the variable **name**.\n",
    "A **variable** is just a name for a value and the value can be called up through the variable name. To create a variable, use =. In Python, = means assignment, not equality. If the user enters the name \"Prajjwal Panday\", the value of the variable name can be viewed as follows:\n",
    "\n",
    "    print(name)"
   ]
  },
  {
   "cell_type": "code",
   "execution_count": null,
   "id": "dbe0c851",
   "metadata": {},
   "outputs": [],
   "source": [
    "name = input(\"Enter your name.  :\")\n",
    "print(name)"
   ]
  },
  {
   "cell_type": "code",
   "execution_count": null,
   "id": "1feae5be",
   "metadata": {},
   "outputs": [],
   "source": [
    "first=float(input(\"Tell me the first number: \"))\n",
    "second=float(input(\"Tell me the second number: \"))\n",
    "print(\"The sum of the two numbers is\", first+second)\n",
    "print(\"The product of the two numbers is\", first*second)"
   ]
  },
  {
   "cell_type": "code",
   "execution_count": null,
   "id": "14717751",
   "metadata": {},
   "outputs": [],
   "source": []
  },
  {
   "cell_type": "code",
   "execution_count": null,
   "id": "90ca8f17",
   "metadata": {},
   "outputs": [],
   "source": [
    "\"The raven said 'nevermore,' that's his favorite thing to say\""
   ]
  },
  {
   "cell_type": "code",
   "execution_count": null,
   "id": "bcc3658f",
   "metadata": {},
   "outputs": [],
   "source": [
    "\"Hello! Here I'm using a single quote.\""
   ]
  },
  {
   "cell_type": "code",
   "execution_count": null,
   "id": "24325fc2",
   "metadata": {},
   "outputs": [],
   "source": [
    "# Newline character \\n also knows as escape sequence\n",
    "\"This is a very long sentence which extends all the way to next line. There is not break. When you evaluate a string in Python without the print function, \\n is embedded in the result\""
   ]
  },
  {
   "cell_type": "code",
   "execution_count": null,
   "id": "d9d01fd5",
   "metadata": {},
   "outputs": [],
   "source": [
    "print(\"This is a very long sentence which extends all the way to next line. There is no break. When you evaluate a string in Python without the print function, a space is embedded in the result\")"
   ]
  },
  {
   "cell_type": "code",
   "execution_count": null,
   "id": "ce6e5cfb",
   "metadata": {},
   "outputs": [],
   "source": [
    "name = \"Prajjwal Panday,  \"\n",
    "address = \"Worcester, MA\"\n",
    "print(name + address)"
   ]
  },
  {
   "cell_type": "markdown",
   "id": "f50867ee-a54c-4038-93dd-07abc741e849",
   "metadata": {},
   "source": [
    "\n",
    "\n",
    "_________________________________________________________________________\n",
    "   \n",
    "     \n"
   ]
  },
  {
   "cell_type": "markdown",
   "id": "5b8c7d28-a2fd-46cb-ab62-085ee57e63a7",
   "metadata": {},
   "source": [
    "#### Quiz 1 \n",
    "Please finish these five questions."
   ]
  },
  {
   "cell_type": "markdown",
   "id": "55948648-b87a-492a-a983-c88fe4d7b4f4",
   "metadata": {},
   "source": [
    "Q1. Print the sum of 7 and 10 and add the comment 'Addition' "
   ]
  },
  {
   "cell_type": "code",
   "execution_count": null,
   "id": "54584552-b15b-4322-a573-2ce2af296f0d",
   "metadata": {},
   "outputs": [],
   "source": []
  },
  {
   "cell_type": "markdown",
   "id": "4a3b17e8-1cee-46f6-b552-fcd1576be0b5",
   "metadata": {},
   "source": [
    "Q2. Create variables for each and solve the following using operators. Print out the final result as a separate variable.\n",
    "\n",
    "1. 6 + 4\n",
    "\n",
    "2. ((27 * 2) + 46) ** 0.5"
   ]
  },
  {
   "cell_type": "code",
   "execution_count": null,
   "id": "e8637db8-e13b-49a8-8bb1-0a98999cbf52",
   "metadata": {},
   "outputs": [],
   "source": []
  },
  {
   "cell_type": "markdown",
   "id": "32ee25cf",
   "metadata": {},
   "source": [
    "Q3. Using your own height (in meters) and weight (kilograms), please compute your individual BMIs. Create a variable called BMI to store the output. \n",
    "BMI is calculated as weight / (height)^2 where weight is in kilograms and height is in meters."
   ]
  },
  {
   "cell_type": "code",
   "execution_count": null,
   "id": "8cad1e4c-a53c-4181-b5e4-16086340713b",
   "metadata": {},
   "outputs": [],
   "source": []
  },
  {
   "cell_type": "markdown",
   "id": "e3f1a4b5",
   "metadata": {},
   "source": [
    "Q4. Print your name and address as strings in different variables and print them together using print() function\n",
    " "
   ]
  },
  {
   "cell_type": "code",
   "execution_count": null,
   "id": "870eac09",
   "metadata": {},
   "outputs": [],
   "source": []
  },
  {
   "cell_type": "markdown",
   "id": "969396cb-083f-44ea-8b35-e6c6ac3b1aae",
   "metadata": {},
   "source": [
    "Q5. Suppose you have $100, which you can invest with a 10% return each year. After one year, it's 100 x 1.1 dollars, and after two years it's 100 X 1.1. X 1.1. Add code to calculate how much money you end up with after 10 years, and print the result."
   ]
  },
  {
   "cell_type": "code",
   "execution_count": null,
   "id": "c767f27f-9161-4cc8-aafe-7d842f7472a5",
   "metadata": {},
   "outputs": [],
   "source": []
  }
 ],
 "metadata": {
  "kernelspec": {
   "display_name": "Python 3 (ipykernel)",
   "language": "python",
   "name": "python3"
  },
  "language_info": {
   "codemirror_mode": {
    "name": "ipython",
    "version": 3
   },
   "file_extension": ".py",
   "mimetype": "text/x-python",
   "name": "python",
   "nbconvert_exporter": "python",
   "pygments_lexer": "ipython3",
   "version": "3.9.7"
  }
 },
 "nbformat": 4,
 "nbformat_minor": 5
}
